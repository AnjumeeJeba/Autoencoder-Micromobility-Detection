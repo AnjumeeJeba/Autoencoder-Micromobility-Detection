{
 "cells": [
  {
   "cell_type": "code",
   "execution_count": 1,
   "metadata": {},
   "outputs": [],
   "source": [
    "import csv\n",
    "import random\n",
    "\n",
    "def shuffle_csv(input_file, output_file):\n",
    "    # Read the CSV content\n",
    "    with open(input_file, 'r') as file:\n",
    "        reader = list(csv.reader(file))\n",
    "        header = reader[0]  # Extract header if present\n",
    "        rows = reader[1:]   # Extract rows\n",
    "\n",
    "    # Shuffle rows\n",
    "    random.shuffle(rows)\n",
    "\n",
    "    # Write back to a new CSV file\n",
    "    with open(output_file, 'w', newline='') as file:\n",
    "        writer = csv.writer(file)\n",
    "        writer.writerow(header)  # Write header\n",
    "        writer.writerows(rows)   # Write shuffled rows\n",
    "\n",
    "# Example usage\n",
    "input_csv = \"Oscillation (5).csv\"\n",
    "output_csv = \"shuffled_Oscillation (5).csv\"\n",
    "shuffle_csv(input_csv, output_csv)\n"
   ]
  },
  {
   "cell_type": "code",
   "execution_count": null,
   "metadata": {},
   "outputs": [],
   "source": []
  }
 ],
 "metadata": {
  "kernelspec": {
   "display_name": "Python 3",
   "language": "python",
   "name": "python3"
  },
  "language_info": {
   "codemirror_mode": {
    "name": "ipython",
    "version": 3
   },
   "file_extension": ".py",
   "mimetype": "text/x-python",
   "name": "python",
   "nbconvert_exporter": "python",
   "pygments_lexer": "ipython3",
   "version": "3.9.6"
  }
 },
 "nbformat": 4,
 "nbformat_minor": 2
}
